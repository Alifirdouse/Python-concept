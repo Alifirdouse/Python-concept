{
 "cells": [
  {
   "cell_type": "code",
   "execution_count": 7,
   "id": "8333ebbe-2831-4d5a-8637-11599c741ee6",
   "metadata": {},
   "outputs": [
    {
     "data": {
      "text/plain": [
       "'Hello,sample text. sample text 2 sample text 2 sample text 2 sample text 2sample text 2'"
      ]
     },
     "execution_count": 7,
     "metadata": {},
     "output_type": "execute_result"
    }
   ],
   "source": [
    "# 1.Write a Python program to read a file and display its contents.\n",
    "\n",
    "x = open('C:/Users/Asus/D35.txt')\n",
    "x.read()"
   ]
  },
  {
   "cell_type": "code",
   "execution_count": 20,
   "id": "0e07f82c-4a65-4c01-a2a1-70f45703c85d",
   "metadata": {},
   "outputs": [],
   "source": [
    "# 2. Write a Python program to copy the contents of one file to another file.\n",
    "\n",
    "file = open(r\"C:\\Users\\Asus\\OneDrive\\Desktop\\new data..txt\")  \n",
    "data = file.read() \n",
    "file.close()  \n",
    "\n",
    "#  destination file path as well\n",
    "with open(r\"C:\\Users\\Asus\\OneDrive\\Desktop\\old data.txt\", 'a') as file: \n",
    "    file.write(data)\n",
    "    \n"
   ]
  },
  {
   "cell_type": "code",
   "execution_count": 3,
   "id": "1d08b381-1c47-4544-8ec7-a7fde28d5361",
   "metadata": {},
   "outputs": [
    {
     "name": "stdout",
     "output_type": "stream",
     "text": [
      "Number of words in the text file: 12\n"
     ]
    }
   ],
   "source": [
    "# 3.Write a Python program to read the content of a file and count the total number of words in that file\n",
    "\n",
    "# Use 'with' to open the file (automatically closes the file when done)\n",
    "with open(r\"C:\\Users\\Asus\\OneDrive\\Desktop\\new data..txt\", \"r\") as file:\n",
    "    count = 0\n",
    "    for line in file:\n",
    "        words = line.split()  # Split by any whitespace\n",
    "        count += len(words)\n",
    "\n",
    "print(\"Number of words in the text file:\", count)\n",
    "\n"
   ]
  },
  {
   "cell_type": "code",
   "execution_count": 6,
   "id": "025e8c69-7449-427a-b1c0-dadadb692882",
   "metadata": {},
   "outputs": [
    {
     "name": "stdout",
     "output_type": "stream",
     "text": [
      "The occurs: 3\n",
      "Quick occurs: 1\n",
      "Brown occurs: 1\n",
      "fox occurs: 1\n",
      "Jumps occurs: 1\n",
      "Over occurs: 1\n",
      "Happy occurs: 2\n",
      "Dog occurs: 2\n",
      "Runs occurs: 1\n",
      "Away occurs: 1\n"
     ]
    }
   ],
   "source": [
    "# 4.Write a Python program to read the content of a file and count the number of occurrences of a specific word in that file.\n",
    "\n",
    "# Open the file and read the data\n",
    "fd = open(r\"C:\\Users\\Asus\\OneDrive\\Desktop\\Example.txt\")\n",
    "data = fd.read()\n",
    "fd.close()\n",
    "\n",
    "# Define the special characters to be removed\n",
    "special_char = \",.?!\" \n",
    "\n",
    "# Remove each special character from the data\n",
    "for schar in special_char: \n",
    "    if schar in data:\n",
    "        data = data.replace(schar, \"\")\n",
    "\n",
    "# Split the data into a list of words\n",
    "word_list = data.split()\n",
    "\n",
    "# Create an empty dictionary to store word count\n",
    "word_count = {}\n",
    "\n",
    "# Count the frequency of each word\n",
    "for word in word_list: \n",
    "    if word in word_count: \n",
    "        word_count[word] += 1 \n",
    "    else: \n",
    "        word_count[word] = 1\n",
    "\n",
    "# Print the word count\n",
    "for key, value in word_count.items(): \n",
    "    print(f\"{key} occurs: {value}\")\n"
   ]
  },
  {
   "cell_type": "code",
   "execution_count": 1,
   "id": "48ddd4ce-6528-4a02-88ba-f3b9af43343f",
   "metadata": {},
   "outputs": [
    {
     "name": "stdin",
     "output_type": "stream",
     "text": [
      "Enter Your Username :  kl\n"
     ]
    },
    {
     "name": "stdout",
     "output_type": "stream",
     "text": [
      "Username is Invalid.\n"
     ]
    }
   ],
   "source": [
    "# 5.Write a Python program that prompts the user to input a string and converts it to an integer.\n",
    "# Use try-except blocks to handle any exceptions that might occur.\n",
    "\n",
    "x = input('Enter Your Username : ')\n",
    "try:   \n",
    " number= int(x)\n",
    " print (number)\n",
    "except :\n",
    "    print('Username is Invalid.')"
   ]
  },
  {
   "cell_type": "code",
   "execution_count": 11,
   "id": "e6dfa0fa-2f96-4871-b836-0e139cbaa24b",
   "metadata": {},
   "outputs": [
    {
     "name": "stdin",
     "output_type": "stream",
     "text": [
      "Enter a list of  integers :  5\n"
     ]
    },
    {
     "name": "stdout",
     "output_type": "stream",
     "text": [
      "5\n"
     ]
    }
   ],
   "source": [
    "6.# Write a Python program that prompts the user to input a list of integers and raises an exception if any of the integers in the list are negative.\n",
    "\n",
    "\n",
    "\n",
    "data = []\n",
    "x = input('Enter a list of  integers : ')\n",
    "data.append(x)\n",
    "try:   \n",
    "    int(x) >= 0\n",
    "    print (x)\n",
    "except :\n",
    "     print('Negative Integers Found.')\n",
    " \n",
    "\n",
    "\n",
    "\n"
   ]
  },
  {
   "cell_type": "code",
   "execution_count": 20,
   "id": "3e39828c-6257-470e-800d-9e1e729391c7",
   "metadata": {},
   "outputs": [
    {
     "name": "stdin",
     "output_type": "stream",
     "text": [
      "Enter a list of integers separated by spaces:  a b vc\n"
     ]
    },
    {
     "name": "stdout",
     "output_type": "stream",
     "text": [
      "Error: invalid literal for int() with base 10: 'a'\n",
      "Program execution has finished.\n"
     ]
    }
   ],
   "source": [
    "7.Write a Python program that prompts the user to input a list of integers and computes the average of those integers.\n",
    "Use try-except blocks to handle any exceptions that might occur.\n",
    "Use the finally clause to print a message indicating that the program has finished running.\n",
    "\n",
    "    \n",
    "def main():\n",
    "    try:\n",
    "        # Prompt the user to enter a list of integers\n",
    "        user_input = input(\"Enter a list of integers separated by spaces: \")\n",
    "        \n",
    "        # Convert the user input into a list of integers\n",
    "        numbers = list(map(int, user_input.split()))\n",
    "        \n",
    "        if len(numbers) == 0:\n",
    "            raise ValueError(\"The list cannot be empty.\")\n",
    "        \n",
    "        # Calculate the average\n",
    "        average = sum(numbers) / len(numbers)\n",
    "        \n",
    "        # Print the result\n",
    "        print(f\"The average of the entered integers is: {average:.2f}\")\n",
    "    \n",
    "    except ValueError as ve:\n",
    "        print(f\"Error: {ve}\")\n",
    "    except Exception as e:\n",
    "        print(f\"An unexpected error occurred: {e}\")\n",
    "    \n",
    "    finally:\n",
    "        print(\"Program execution has finished.\")\n",
    "\n",
    "# Run the main function\n",
    "if __name__ == \"__main__\":\n",
    "    main()\n"
   ]
  },
  {
   "cell_type": "code",
   "execution_count": 1,
   "id": "a9c97488-571e-4517-b96b-b8e4e97ef798",
   "metadata": {},
   "outputs": [
    {
     "name": "stdin",
     "output_type": "stream",
     "text": [
      "Please enter the filename to write to:  Python\n"
     ]
    },
    {
     "name": "stdout",
     "output_type": "stream",
     "text": [
      "Successfully wrote to Python. Welcome!\n"
     ]
    }
   ],
   "source": [
    "# 8.Write a Python program that prompts the user to input a filename and writes a string to that file.\n",
    "# Use try-except blocks to handle any exceptions that might occur and print a welcome message if no exception occurred.\n",
    "\n",
    "def write_to_file():\n",
    "    # Prompt the user for the filename\n",
    "    filename = input(\"Please enter the filename to write to: \")\n",
    "    \n",
    "    # String to write to the file\n",
    "    content = \"Hello, this is a test string written to the file.\"\n",
    "    \n",
    "    try:\n",
    "        # Try opening the file and writing the string to it\n",
    "        with open(filename, 'w') as file:\n",
    "            file.write(content)\n",
    "        \n",
    "        # Print a welcome message if no exception occurred\n",
    "        print(f\"Successfully wrote to {filename}. Welcome!\")\n",
    "    \n",
    "    except IOError as e:\n",
    "        # Handle I/O errors (e.g., file permission issues, invalid file path)\n",
    "        print(f\"Error occurred while writing to the file: {e}\")\n",
    "    \n",
    "    except Exception as e:\n",
    "        # Catch other unforeseen exceptions\n",
    "        print(f\"An unexpected error occurred: {e}\")\n",
    "\n",
    "# Run the function\n",
    "write_to_file()\n"
   ]
  },
  {
   "cell_type": "code",
   "execution_count": 10,
   "id": "171bcf6d-e8dc-4837-9e7a-eda32e1b0e8d",
   "metadata": {},
   "outputs": [
    {
     "name": "stdout",
     "output_type": "stream",
     "text": [
      "The sum of the numbers is: 21\n"
     ]
    }
   ],
   "source": [
    "# 9.Write a Python function called calculate_sum that takes a list of numbers as an argument and returns the sum of all numbers in the list.\n",
    " \n",
    "def calculate_sum(numbers):\n",
    "    total = 0\n",
    "    for number in numbers:\n",
    "        total += number\n",
    "    return total\n",
    "\n",
    "# Calling the function with a list of numbers\n",
    "numbers_list = [1, 2, 3, 5, 10]\n",
    "result = calculate_sum(numbers_list)\n",
    "print(\"The sum of the numbers is:\", result)\n",
    "\n"
   ]
  },
  {
   "cell_type": "code",
   "execution_count": 11,
   "id": "e6d329a3-78ca-4a23-9c31-70e66b718af7",
   "metadata": {},
   "outputs": [
    {
     "name": "stdout",
     "output_type": "stream",
     "text": [
      "True\n",
      "False\n"
     ]
    }
   ],
   "source": [
    "# 10.Write a Python function called is_palindrome that takes a string as an argument and returns True if the string is a palindrome\n",
    "# (reads the same forward and backward), and False otherwise\n",
    "\n",
    "def is_palindrome(s):\n",
    "    # Compare the string with its reverse\n",
    "    return s == s[::-1]\n",
    "\n",
    "\n",
    "\n",
    "print(is_palindrome(\"racecar\"))  # True\n",
    "print(is_palindrome(\"hello\"))    # False\n",
    "\n"
   ]
  }
 ],
 "metadata": {
  "kernelspec": {
   "display_name": "Python 3 (ipykernel)",
   "language": "python",
   "name": "python3"
  },
  "language_info": {
   "codemirror_mode": {
    "name": "ipython",
    "version": 3
   },
   "file_extension": ".py",
   "mimetype": "text/x-python",
   "name": "python",
   "nbconvert_exporter": "python",
   "pygments_lexer": "ipython3",
   "version": "3.12.4"
  }
 },
 "nbformat": 4,
 "nbformat_minor": 5
}
