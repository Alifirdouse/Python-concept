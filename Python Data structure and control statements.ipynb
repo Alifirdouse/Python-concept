{
 "cells": [
  {
   "cell_type": "code",
   "execution_count": 1,
   "id": "515a98c2-70d6-4c56-8792-25b6956fac41",
   "metadata": {},
   "outputs": [
    {
     "name": "stdout",
     "output_type": "stream",
     "text": [
      "[9, 7, 5, 3, 2, 1]\n"
     ]
    }
   ],
   "source": [
    "numbers = [5, 2, 9, 1, 7, 3]\n",
    "sorted_numbers = sorted(numbers, reverse=True)\n",
    "print(sorted_numbers)  \n"
   ]
  },
  {
   "cell_type": "code",
   "execution_count": 2,
   "id": "9ce6392a-eee2-4539-93e8-708cab51db4f",
   "metadata": {},
   "outputs": [
    {
     "name": "stdout",
     "output_type": "stream",
     "text": [
      "[15, 25, 35]\n"
     ]
    }
   ],
   "source": [
    "numbers = [10, 15, 20, 25, 30, 35, 40]\n",
    "odd_numbers = list(filter(lambda x: x % 2 != 0, numbers))\n",
    "print(odd_numbers) \n"
   ]
  },
  {
   "cell_type": "code",
   "execution_count": 3,
   "id": "b4234673-7091-4bd2-9c61-81928f7d2b04",
   "metadata": {},
   "outputs": [
    {
     "name": "stdout",
     "output_type": "stream",
     "text": [
      "Alice: 95\n"
     ]
    }
   ],
   "source": [
    "students = {}\n",
    "\n",
    "def add_student(name, grade):\n",
    "    students[name] = grade\n",
    "\n",
    "def remove_student(name):\n",
    "    if name in students:\n",
    "        del students[name]\n",
    "\n",
    "def update_grade(name, grade):\n",
    "    if name in students:\n",
    "        students[name] = grade\n",
    "\n",
    "def display_students():\n",
    "    for name, grade in students.items():\n",
    "        print(f\"{name}: {grade}\")\n",
    "\n",
    "\n",
    "add_student(\"Alice\", 85)\n",
    "add_student(\"Bob\", 90)\n",
    "update_grade(\"Alice\", 95)\n",
    "remove_student(\"Bob\")\n",
    "display_students() \n"
   ]
  },
  {
   "cell_type": "code",
   "execution_count": 4,
   "id": "60b02f76-0ee2-4c6e-b598-8edf4ca16264",
   "metadata": {},
   "outputs": [
    {
     "name": "stdout",
     "output_type": "stream",
     "text": [
      "Union: {1, 2, 3, 4, 5, 6, 7, 8}\n",
      "Intersection: {4, 5}\n",
      "Difference (set1 - set2): {1, 2, 3}\n"
     ]
    }
   ],
   "source": [
    "set1 = {1, 2, 3, 4, 5}\n",
    "set2 = {4, 5, 6, 7, 8}\n",
    "\n",
    "union = set1.union(set2)\n",
    "intersection = set1.intersection(set2)\n",
    "difference = set1.difference(set2)\n",
    "\n",
    "print(f\"Union: {union}\")         \n",
    "print(f\"Intersection: {intersection}\")\n",
    "print(f\"Difference (set1 - set2): {difference}\")  \n"
   ]
  },
  {
   "cell_type": "code",
   "execution_count": 5,
   "id": "bf3afc1c-b4d4-4db2-908b-709facc4b716",
   "metadata": {},
   "outputs": [
    {
     "name": "stdout",
     "output_type": "stream",
     "text": [
      "h:1\n",
      "e:1\n",
      "l:3\n",
      "o:2\n",
      " :1\n",
      "w:1\n",
      "r:1\n",
      "d:1\n"
     ]
    }
   ],
   "source": [
    "\n",
    "input_string = \"hello world\"\n",
    "frequency = {}\n",
    "\n",
    "for char in input_string:\n",
    "    if char in frequency:\n",
    "        frequency[char] += 1\n",
    "    else:\n",
    "        frequency[char] = 1\n",
    "\n",
    "for char, count in frequency.items():\n",
    "    print(f\"{char}:{count}\")\n"
   ]
  },
  {
   "cell_type": "code",
   "execution_count": null,
   "id": "475587dd-5ecf-45f4-bb54-4008f9ece657",
   "metadata": {},
   "outputs": [],
   "source": []
  }
 ],
 "metadata": {
  "kernelspec": {
   "display_name": "Python 3 (ipykernel)",
   "language": "python",
   "name": "python3"
  },
  "language_info": {
   "codemirror_mode": {
    "name": "ipython",
    "version": 3
   },
   "file_extension": ".py",
   "mimetype": "text/x-python",
   "name": "python",
   "nbconvert_exporter": "python",
   "pygments_lexer": "ipython3",
   "version": "3.12.4"
  }
 },
 "nbformat": 4,
 "nbformat_minor": 5
}
